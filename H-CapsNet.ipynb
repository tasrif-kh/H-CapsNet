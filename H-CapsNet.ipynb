{
 "cells": [
  {
   "cell_type": "markdown",
   "id": "0c80bff9",
   "metadata": {},
   "source": [
    "***\n",
    "<font size=\"6\"><center><b> H-CapsNet: A Capsule Network for Hierarchical Image Classification </b></center></font>\n",
    "***"
   ]
  },
  {
   "cell_type": "markdown",
   "id": "5cc68ea2",
   "metadata": {},
   "source": [
    "# Model Description"
   ]
  },
  {
   "cell_type": "markdown",
   "id": "52e4b202",
   "metadata": {},
   "source": [
    "**H-CapsNet model:**\n",
    "- Use Capsule network for hierarchcial classification\n",
    "- This model contains a deducated feature extraction layer and Capsule netowrk per hierarchy\n",
    "- For training use MixupData data augmentation technique\n",
    "- Model Uses Dynamic LossWeight Distribution system\n",
    "- This model is designed and evaluted using **TensorFlow 2.8.0**"
   ]
  },
  {
   "cell_type": "markdown",
   "id": "ac1aab3b",
   "metadata": {},
   "source": [
    "# Import necessary Files and Libraries"
   ]
  },
  {
   "cell_type": "code",
   "execution_count": 1,
   "id": "85c59a96",
   "metadata": {},
   "outputs": [
    {
     "name": "stdout",
     "output_type": "stream",
     "text": [
      "DONE\n"
     ]
    }
   ],
   "source": [
    "import tensorflow as tf\n",
    "from tensorflow import keras\n",
    "from tensorflow.keras.preprocessing.image import ImageDataGenerator\n",
    "from tensorflow.keras.models import Sequential\n",
    "from tensorflow.keras.layers import Dense, Activation, Flatten, Dropout, BatchNormalization\n",
    "from tensorflow.keras.layers import Conv2D, MaxPooling2D\n",
    "from tensorflow.keras import regularizers, optimizers\n",
    "from tensorflow.keras import backend as K\n",
    "# Supporting Libraries:\n",
    "    #Mathplot lib for ploting graphs\n",
    "%matplotlib inline\n",
    "import matplotlib\n",
    "import matplotlib.pyplot as plt\n",
    "    # numpy and pandas\n",
    "import numpy as np\n",
    "import pandas as pd\n",
    "    #system\n",
    "import os\n",
    "import sys\n",
    "import csv\n",
    "    #import other libraries\n",
    "import math\n",
    "import random\n",
    "from datetime import datetime\n",
    "    # ML model, Dataset and evalution metrics\n",
    "from models import datasets\n",
    "from models import MLmodel\n",
    "from models import metrics\n",
    "from models import MixUp\n",
    "    # For developind (reloades any python scripts)\n",
    "import importlib\n",
    "# importlib.reload(MLmodel)\n"
   ]
  },
  {
   "cell_type": "markdown",
   "id": "e2a610d1",
   "metadata": {},
   "source": [
    "# Print System Information"
   ]
  },
  {
   "cell_type": "code",
   "execution_count": 2,
   "id": "e83a195f",
   "metadata": {},
   "outputs": [
    {
     "name": "stdout",
     "output_type": "stream",
     "text": [
      "\u001b[91m \u001b[1m \n",
      "• COMPUTER NAME = \u001b[0m 30BFPC1AXW95\n",
      "\u001b[91m \u001b[1m \n",
      "• WORKING DIRECTORY:  \u001b[0m D:\\GitHub\\H-CapsNet\n",
      "\u001b[91m \u001b[1m \n",
      "• python version =  \u001b[0m 3.8.12 (default, Oct 12 2021, 03:01:40) [MSC v.1916 64 bit (AMD64)]\n",
      "\u001b[91m \u001b[1m \n",
      "• tensorflow version =  \u001b[0m 2.8.0\n",
      "\u001b[91m \u001b[1m \n",
      "• keras version =  \u001b[0m 2.8.0\n",
      "\u001b[91m \u001b[1m \n",
      "• Current Anaconda Environment = \u001b[0m py38tf\n"
     ]
    }
   ],
   "source": [
    "try:\n",
    "    print('\\033[91m','\\033[1m',\"\\n\\u2022\",\"COMPUTER NAME =\", '\\033[0m',os.environ['COMPUTERNAME'])\n",
    "except:\n",
    "    print('\\033[91m','\\033[1m',\"\\n\\u2022\",\"COMPUTER NAME =\", '\\033[0m',os.name)\n",
    "print('\\033[91m','\\033[1m',\"\\n\\u2022\",\"WORKING DIRECTORY: \",'\\033[0m',os.getcwd())\n",
    "print('\\033[91m','\\033[1m',\"\\n\\u2022\",\"python version = \", '\\033[0m', sys.version,)\n",
    "print('\\033[91m','\\033[1m',\"\\n\\u2022\",\"tensorflow version = \" ,'\\033[0m',tf.__version__)\n",
    "print('\\033[91m','\\033[1m',\"\\n\\u2022\",\"keras version = \", '\\033[0m',tf.keras.__version__)\n",
    "try:\n",
    "  print('\\033[91m','\\033[1m',\"\\n\\u2022\",\"Current Anaconda Environment =\", '\\033[0m',os.environ['CONDA_DEFAULT_ENV'])\n",
    "except:\n",
    "  print('\\033[91m','\\033[1m',\"\\n\\u2022\",\"Not Using Anaconda\", '\\033[0m')"
   ]
  },
  {
   "cell_type": "markdown",
   "id": "78407188",
   "metadata": {},
   "source": [
    "# Defining GPU memory growth"
   ]
  },
  {
   "cell_type": "code",
   "execution_count": 3,
   "id": "95ca746c",
   "metadata": {},
   "outputs": [
    {
     "name": "stdout",
     "output_type": "stream",
     "text": [
      "GPU 0: NVIDIA GeForce RTX 2080 Ti (UUID: GPU-40c1a3ca-27b3-3f4c-5286-ebba95c166bd)\n"
     ]
    }
   ],
   "source": [
    "! nvidia-smi --list-gpus"
   ]
  },
  {
   "cell_type": "raw",
   "id": "741fec5b",
   "metadata": {},
   "source": [
    "## For Using Multiple GPUs\n",
    "os.environ[\"CUDA_VISIBLE_DEVICES\"]=\"0,1,2,3,4,5,6,7\" ## Include GPU Numbers"
   ]
  },
  {
   "cell_type": "code",
   "execution_count": 4,
   "id": "7fe65137",
   "metadata": {},
   "outputs": [
    {
     "name": "stdout",
     "output_type": "stream",
     "text": [
      "Done: GPU PhysicalDevice(name='/physical_device:GPU:0', device_type='GPU')\n",
      "1 Physical GPUs, 1 Logical GPUs\n"
     ]
    }
   ],
   "source": [
    "gpus = tf.config.experimental.list_physical_devices('GPU')\n",
    "if gpus:\n",
    "    try:\n",
    "        # Currently, memory growth needs to be the same across GPUs\n",
    "        for gpu in gpus:\n",
    "            tf.config.experimental.set_memory_growth(gpu, True)\n",
    "            print(\"Done: GPU \"+str(gpu))\n",
    "        logical_gpus = tf.config.experimental.list_logical_devices('GPU')\n",
    "        print(len(gpus), \"Physical GPUs,\", len(logical_gpus), \"Logical GPUs\")\n",
    "    except RuntimeError as e:\n",
    "        # Memory growth must be set before GPUs have been initialized\n",
    "        print(e)"
   ]
  },
  {
   "cell_type": "markdown",
   "id": "44a0baf4",
   "metadata": {},
   "source": [
    "# Training parameters"
   ]
  },
  {
   "cell_type": "markdown",
   "id": "bcd5e5ce",
   "metadata": {},
   "source": [
    "## LOG Directory"
   ]
  },
  {
   "cell_type": "code",
   "execution_count": 5,
   "id": "296150a8",
   "metadata": {},
   "outputs": [
    {
     "name": "stdout",
     "output_type": "stream",
     "text": [
      "Warning: Folder already exist.\n"
     ]
    }
   ],
   "source": [
    "Datasetname = \"MNIST\"\n",
    "\n",
    "base_path = \"./logs/\"+Datasetname\n",
    "if not os.path.exists(base_path):\n",
    "    os.makedirs(base_path)\n",
    "    print(\"FOLDER CREATED = \", base_path)\n",
    "else:\n",
    "    print(\"Warning: Folder already exist.\")"
   ]
  },
  {
   "cell_type": "markdown",
   "id": "afd9fce3",
   "metadata": {},
   "source": [
    "## Parameters"
   ]
  },
  {
   "cell_type": "code",
   "execution_count": 6,
   "id": "d8b9b470",
   "metadata": {},
   "outputs": [],
   "source": [
    "train_params = {\"n_epochs\" : 50,\n",
    "                \"batch_size\": 128,\n",
    "                \"lr\": 0.001, # Initial learning rate\n",
    "                \"lr_decay\": 0.95, # Learning rate decay\n",
    "               }\n",
    "CapsNet = {\"P_Cap_Dim\" : 8, # Primary Capsule Dimentions\n",
    "           \"S_Cap_Dim\" : 16, # Secondary Capsule Dimention\n",
    "          }"
   ]
  },
  {
   "cell_type": "markdown",
   "id": "335a1b5e",
   "metadata": {},
   "source": [
    "# Import Datasets"
   ]
  },
  {
   "cell_type": "markdown",
   "id": "012a135d",
   "metadata": {},
   "source": [
    "## Import MNIST dataset"
   ]
  },
  {
   "cell_type": "raw",
   "id": "d4b60d2f",
   "metadata": {},
   "source": [
    "## Import dataset\n",
    "from models import datasets\n",
    "x_train, y_train_coarse, y_train_fine, x_test, y_test_coarse, y_test_fine, tree = datasets.MNIST()\n",
    "tree.show()\n",
    "\n",
    "input_shape=x_train.shape[1:]\n",
    "print('INPUT SHAPE:',input_shape,'\\n')\n",
    "\n",
    "print(\"TRAIN: \\r\\n\")\n",
    "print(x_train.shape)\n",
    "print(y_train_fine.shape)\n",
    "print(y_train_coarse.shape)\n",
    "\n",
    "print(\"\\nTEST: \\r\\n\")\n",
    "print(x_test.shape)\n",
    "print(y_test_fine.shape)\n",
    "print(y_test_coarse.shape)"
   ]
  },
  {
   "cell_type": "markdown",
   "id": "0c7a8285",
   "metadata": {},
   "source": [
    "## Import EMNIST dataset"
   ]
  },
  {
   "cell_type": "raw",
   "id": "985a6d37",
   "metadata": {},
   "source": [
    "## Import dataset\n",
    "x_train, y_train_coarse, y_train_fine, x_test, y_test_coarse, y_test_fine, tree = datasets.E_MNIST()\n",
    "tree.show()\n",
    "\n",
    "input_shape=x_train.shape[1:]\n",
    "print('INPUT SHAPE:',input_shape,'\\n')\n",
    "\n",
    "print(\"TRAIN: \\r\\n\")\n",
    "print(x_train.shape)\n",
    "print(y_train_fine.shape)\n",
    "print(y_train_coarse.shape)\n",
    "\n",
    "print(\"\\nTEST: \\r\\n\")\n",
    "print(x_test.shape)\n",
    "print(y_test_fine.shape)\n",
    "print(y_test_coarse.shape)"
   ]
  },
  {
   "cell_type": "markdown",
   "id": "49a70a8d",
   "metadata": {},
   "source": [
    "## Import Fashion-MNIST dataset"
   ]
  },
  {
   "cell_type": "raw",
   "id": "cd9791e1",
   "metadata": {},
   "source": [
    "## Import dataset\n",
    "x_train, y_train_coarse1, y_train_coarse2, y_train_fine, x_test, y_test_coarse1, y_test_coarse2, y_test_fine, tree = datasets.F_MNIST()\n",
    "tree.show()\n",
    "\n",
    "input_shape=x_train.shape[1:]\n",
    "print('INPUT SHAPE:',input_shape,'\\n')\n",
    "\n",
    "print(\"TRAIN: \\r\\n\")\n",
    "print(x_train.shape)\n",
    "print(y_train_fine.shape)\n",
    "print(y_train_coarse2.shape)\n",
    "print(y_train_coarse1.shape)\n",
    "\n",
    "print(\"\\nTEST: \\r\\n\")\n",
    "print(x_test.shape)\n",
    "print(y_test_fine.shape)\n",
    "print(y_test_coarse2.shape)\n",
    "print(y_test_coarse1.shape)"
   ]
  },
  {
   "cell_type": "markdown",
   "id": "6c386a4b",
   "metadata": {},
   "source": [
    "## Import CIFAR-10 dataset"
   ]
  },
  {
   "cell_type": "raw",
   "id": "963f226e",
   "metadata": {},
   "source": [
    "## Import dataset\n",
    "x_train, y_train_coarse1, y_train_coarse2, y_train_fine, x_test, y_test_coarse1, y_test_coarse2, y_test_fine, tree = datasets.CIFAR10()\n",
    "tree.show()\n",
    "\n",
    "input_shape=x_train.shape[1:]\n",
    "print('INPUT SHAPE:',input_shape,'\\n')\n",
    "\n",
    "print(\"TRAIN: \\r\\n\")\n",
    "print(x_train.shape)\n",
    "print(y_train_fine.shape)\n",
    "print(y_train_coarse2.shape)\n",
    "print(y_train_coarse1.shape)\n",
    "\n",
    "print(\"\\nTEST: \\r\\n\")\n",
    "print(x_test.shape)\n",
    "print(y_test_fine.shape)\n",
    "print(y_test_coarse2.shape)\n",
    "print(y_test_coarse1.shape)"
   ]
  },
  {
   "cell_type": "markdown",
   "id": "5d93e8b4",
   "metadata": {},
   "source": [
    "## Import CIFAR-100 dataset"
   ]
  },
  {
   "cell_type": "code",
   "execution_count": 25,
   "id": "d6674cb0",
   "metadata": {},
   "outputs": [
    {
     "name": "stdout",
     "output_type": "stream",
     "text": [
      "Root\n",
      "├── Coarse_0\n",
      "│   ├── Medium0\n",
      "│   │   ├── Fine_30\n",
      "│   │   ├── Fine_4\n",
      "│   │   ├── Fine_55\n",
      "│   │   ├── Fine_72\n",
      "│   │   └── Fine_95\n",
      "│   └── Medium1\n",
      "│       ├── Fine_1\n",
      "│       ├── Fine_32\n",
      "│       ├── Fine_67\n",
      "│       ├── Fine_73\n",
      "│       └── Fine_91\n",
      "├── Coarse_1\n",
      "│   ├── Medium17\n",
      "│   │   ├── Fine_47\n",
      "│   │   ├── Fine_52\n",
      "│   │   ├── Fine_56\n",
      "│   │   ├── Fine_59\n",
      "│   │   └── Fine_96\n",
      "│   ├── Medium2\n",
      "│   │   ├── Fine_54\n",
      "│   │   ├── Fine_62\n",
      "│   │   ├── Fine_70\n",
      "│   │   ├── Fine_82\n",
      "│   │   └── Fine_92\n",
      "│   └── Medium4\n",
      "│       ├── Fine_0\n",
      "│       ├── Fine_51\n",
      "│       ├── Fine_53\n",
      "│       ├── Fine_57\n",
      "│       └── Fine_83\n",
      "├── Coarse_2\n",
      "│   ├── Medium3\n",
      "│   │   ├── Fine_10\n",
      "│   │   ├── Fine_16\n",
      "│   │   ├── Fine_28\n",
      "│   │   ├── Fine_61\n",
      "│   │   └── Fine_9\n",
      "│   ├── Medium5\n",
      "│   │   ├── Fine_22\n",
      "│   │   ├── Fine_39\n",
      "│   │   ├── Fine_40\n",
      "│   │   ├── Fine_86\n",
      "│   │   └── Fine_87\n",
      "│   └── Medium6\n",
      "│       ├── Fine_20\n",
      "│       ├── Fine_25\n",
      "│       ├── Fine_5\n",
      "│       ├── Fine_84\n",
      "│       └── Fine_94\n",
      "├── Coarse_3\n",
      "│   ├── Medium13\n",
      "│   │   ├── Fine_26\n",
      "│   │   ├── Fine_45\n",
      "│   │   ├── Fine_77\n",
      "│   │   ├── Fine_79\n",
      "│   │   └── Fine_99\n",
      "│   └── Medium7\n",
      "│       ├── Fine_14\n",
      "│       ├── Fine_18\n",
      "│       ├── Fine_24\n",
      "│       ├── Fine_6\n",
      "│       └── Fine_7\n",
      "├── Coarse_4\n",
      "│   ├── Medium11\n",
      "│   │   ├── Fine_15\n",
      "│   │   ├── Fine_19\n",
      "│   │   ├── Fine_21\n",
      "│   │   ├── Fine_31\n",
      "│   │   └── Fine_38\n",
      "│   ├── Medium12\n",
      "│   │   ├── Fine_34\n",
      "│   │   ├── Fine_63\n",
      "│   │   ├── Fine_64\n",
      "│   │   ├── Fine_66\n",
      "│   │   └── Fine_75\n",
      "│   ├── Medium15\n",
      "│   │   ├── Fine_27\n",
      "│   │   ├── Fine_29\n",
      "│   │   ├── Fine_44\n",
      "│   │   ├── Fine_78\n",
      "│   │   └── Fine_93\n",
      "│   ├── Medium16\n",
      "│   │   ├── Fine_36\n",
      "│   │   ├── Fine_50\n",
      "│   │   ├── Fine_65\n",
      "│   │   ├── Fine_74\n",
      "│   │   └── Fine_80\n",
      "│   └── Medium8\n",
      "│       ├── Fine_3\n",
      "│       ├── Fine_42\n",
      "│       ├── Fine_43\n",
      "│       ├── Fine_88\n",
      "│       └── Fine_97\n",
      "├── Coarse_5\n",
      "│   ├── Medium10\n",
      "│   │   ├── Fine_23\n",
      "│   │   ├── Fine_33\n",
      "│   │   ├── Fine_49\n",
      "│   │   ├── Fine_60\n",
      "│   │   └── Fine_71\n",
      "│   └── Medium9\n",
      "│       ├── Fine_12\n",
      "│       ├── Fine_17\n",
      "│       ├── Fine_37\n",
      "│       ├── Fine_68\n",
      "│       └── Fine_76\n",
      "├── Coarse_6\n",
      "│   └── Medium14\n",
      "│       ├── Fine_11\n",
      "│       ├── Fine_2\n",
      "│       ├── Fine_35\n",
      "│       ├── Fine_46\n",
      "│       └── Fine_98\n",
      "└── Coarse_7\n",
      "    ├── Medium18\n",
      "    │   ├── Fine_13\n",
      "    │   ├── Fine_48\n",
      "    │   ├── Fine_58\n",
      "    │   ├── Fine_8\n",
      "    │   └── Fine_90\n",
      "    └── Medium19\n",
      "        ├── Fine_41\n",
      "        ├── Fine_69\n",
      "        ├── Fine_81\n",
      "        ├── Fine_85\n",
      "        └── Fine_89\n",
      "\n"
     ]
    },
    {
     "ename": "AttributeError",
     "evalue": "'str' object has no attribute 'shape'",
     "output_type": "error",
     "traceback": [
      "\u001b[1;31m---------------------------------------------------------------------------\u001b[0m",
      "\u001b[1;31mAttributeError\u001b[0m                            Traceback (most recent call last)",
      "\u001b[1;32m~\\AppData\\Local\\Temp/ipykernel_7600/911352795.py\u001b[0m in \u001b[0;36m<module>\u001b[1;34m\u001b[0m\n\u001b[0;32m      3\u001b[0m \u001b[0mtree\u001b[0m\u001b[1;33m.\u001b[0m\u001b[0mshow\u001b[0m\u001b[1;33m(\u001b[0m\u001b[1;33m)\u001b[0m\u001b[1;33m\u001b[0m\u001b[1;33m\u001b[0m\u001b[0m\n\u001b[0;32m      4\u001b[0m \u001b[1;33m\u001b[0m\u001b[0m\n\u001b[1;32m----> 5\u001b[1;33m \u001b[0minput_shape\u001b[0m\u001b[1;33m=\u001b[0m\u001b[0mx_train\u001b[0m\u001b[1;33m.\u001b[0m\u001b[0mshape\u001b[0m\u001b[1;33m[\u001b[0m\u001b[1;36m1\u001b[0m\u001b[1;33m:\u001b[0m\u001b[1;33m]\u001b[0m\u001b[1;33m\u001b[0m\u001b[1;33m\u001b[0m\u001b[0m\n\u001b[0m\u001b[0;32m      6\u001b[0m \u001b[0mprint\u001b[0m\u001b[1;33m(\u001b[0m\u001b[1;34m'INPUT SHAPE:'\u001b[0m\u001b[1;33m,\u001b[0m\u001b[0minput_shape\u001b[0m\u001b[1;33m,\u001b[0m\u001b[1;34m'\\n'\u001b[0m\u001b[1;33m)\u001b[0m\u001b[1;33m\u001b[0m\u001b[1;33m\u001b[0m\u001b[0m\n\u001b[0;32m      7\u001b[0m \u001b[1;33m\u001b[0m\u001b[0m\n",
      "\u001b[1;31mAttributeError\u001b[0m: 'str' object has no attribute 'shape'"
     ]
    }
   ],
   "source": [
    "## Import dataset\n",
    "x_train, y_train_coarse1, y_train_coarse2, y_train_fine, x_test, y_test_coarse1, y_test_coarse2, y_test_fine, tree = datasets.CIFAR100()\n",
    "tree.show()\n",
    "\n",
    "input_shape=x_train.shape[1:]\n",
    "print('INPUT SHAPE:',input_shape,'\\n')\n",
    "\n",
    "print(\"TRAIN: \\r\\n\")\n",
    "print(x_train.shape)\n",
    "print(y_train_fine.shape)\n",
    "print(y_train_coarse2.shape)\n",
    "print(y_train_coarse1.shape)\n",
    "\n",
    "print(\"\\nTEST: \\r\\n\")\n",
    "print(x_test.shape)\n",
    "print(y_test_fine.shape)\n",
    "print(y_test_coarse2.shape)\n",
    "print(y_test_coarse1.shape)"
   ]
  },
  {
   "cell_type": "code",
   "execution_count": 8,
   "id": "48e7c920",
   "metadata": {},
   "outputs": [
    {
     "name": "stderr",
     "output_type": "stream",
     "text": [
      "Clipping input data to the valid range for imshow with RGB data ([0..1] for floats or [0..255] for integers).\n",
      "Clipping input data to the valid range for imshow with RGB data ([0..1] for floats or [0..255] for integers).\n",
      "Clipping input data to the valid range for imshow with RGB data ([0..1] for floats or [0..255] for integers).\n",
      "Clipping input data to the valid range for imshow with RGB data ([0..1] for floats or [0..255] for integers).\n",
      "Clipping input data to the valid range for imshow with RGB data ([0..1] for floats or [0..255] for integers).\n",
      "Clipping input data to the valid range for imshow with RGB data ([0..1] for floats or [0..255] for integers).\n",
      "Clipping input data to the valid range for imshow with RGB data ([0..1] for floats or [0..255] for integers).\n",
      "Clipping input data to the valid range for imshow with RGB data ([0..1] for floats or [0..255] for integers).\n",
      "Clipping input data to the valid range for imshow with RGB data ([0..1] for floats or [0..255] for integers).\n",
      "Clipping input data to the valid range for imshow with RGB data ([0..1] for floats or [0..255] for integers).\n"
     ]
    },
    {
     "data": {
      "image/png": "[encoded data removed]",
      "text/plain": [
       "<Figure size 1440x1440 with 10 Axes>"
      ]
     },
     "metadata": {},
     "output_type": "display_data"
    }
   ],
   "source": [
    "n_samples = 10\n",
    "\n",
    "plot_column= 10\n",
    "plot_row= math.ceil(n_samples/plot_column)\n",
    "\n",
    "random_number= random.sample(range(0, len(x_train)), n_samples)\n",
    "fig, axs = plt.subplots(plot_row,plot_column, #### Row and column number for n_samples\n",
    "                        figsize=(20, 20), facecolor='w', edgecolor='k')\n",
    "fig.subplots_adjust(hspace = .5, wspace=.001)\n",
    "\n",
    "axs = axs.ravel()\n",
    "\n",
    "for i in range(n_samples):\n",
    "    \n",
    "    sample_image = x_train[random_number[i]].reshape(input_shape)\n",
    "    axs[i].imshow(sample_image)\n",
    "    \n",
    "    ### FOR 2 Levels ###\n",
    "#     axs[i].set_title('Coarse= {0},\\nFine= {1}'.format(str(np.argmax(y_train_coarse[random_number[i]])), str(np.argmax(y_train_fine[random_number[i]]))))\n",
    "    \n",
    "    ### FOR 3 Levels ###\n",
    "    axs[i].set_title('Coarse1= {0},\\nCoarse2= {1},\\nFine= {2}'.format(str(np.argmax(y_train_coarse1[random_number[i]])), str(np.argmax(y_train_coarse2[random_number[i]])), str(np.argmax(y_train_fine[random_number[i]]))))"
   ]
  },
  {
   "cell_type": "markdown",
   "id": "2b871256",
   "metadata": {},
   "source": [
    "# Model Training"
   ]
  },
  {
   "cell_type": "markdown",
   "id": "7619491f",
   "metadata": {},
   "source": [
    "## Create the model"
   ]
  },
  {
   "cell_type": "code",
   "execution_count": 11,
   "id": "2436cadf",
   "metadata": {},
   "outputs": [],
   "source": [
    "caps1_n_dims = 8\n",
    "\n",
    "\n",
    "fine_class = len(np.unique(np.argmax(y_train_fine, axis=1)))\n",
    "medium_class = len(np.unique(np.argmax(y_train_coarse2, axis=1)))\n",
    "coarse_class = len(np.unique(np.argmax(y_train_coarse1, axis=1)))\n",
    "\n",
    "caps2_n_dims = 16"
   ]
  },
  {
   "cell_type": "code",
   "execution_count": 26,
   "id": "b30aa259",
   "metadata": {},
   "outputs": [],
   "source": [
    "importlib.reload(MLmodel)\n",
    "importlib.reload(datasets)\n",
    "model = MLmodel.CIFAR10_HCapsNet(input_shape,\n",
    "                               coarse_class, medium_class, fine_class)"
   ]
  },
  {
   "cell_type": "markdown",
   "id": "e4db0452",
   "metadata": {},
   "source": [
    "# Model Analysis"
   ]
  },
  {
   "cell_type": "code",
   "execution_count": 20,
   "id": "1998c584",
   "metadata": {
    "scrolled": true
   },
   "outputs": [
    {
     "name": "stdout",
     "output_type": "stream",
     "text": [
      "Model: \"H-CapsNet_CIFAR10\"\n",
      "__________________________________________________________________________________________________\n",
      " Layer (type)                   Output Shape         Param #     Connected to                     \n",
      "==================================================================================================\n",
      " Input_Image (InputLayer)       [(None, 32, 32, 3)]  0           []                               \n",
      "                                                                                                  \n",
      " conv1 (Conv2D)                 (None, 30, 30, 32)   896         ['Input_Image[0][0]']            \n",
      "                                                                                                  \n",
      " batch_normalization_27 (BatchN  (None, 30, 30, 32)  128         ['conv1[0][0]']                  \n",
      " ormalization)                                                                                    \n",
      "                                                                                                  \n",
      " conv2 (Conv2D)                 (None, 28, 28, 64)   18496       ['batch_normalization_27[0][0]'] \n",
      "                                                                                                  \n",
      " batch_normalization_28 (BatchN  (None, 28, 28, 64)  256         ['conv2[0][0]']                  \n",
      " ormalization)                                                                                    \n",
      "                                                                                                  \n",
      " convc21 (Conv2D)               (None, 26, 26, 128)  73856       ['batch_normalization_28[0][0]'] \n",
      "                                                                                                  \n",
      " convc31 (Conv2D)               (None, 26, 26, 128)  73856       ['batch_normalization_28[0][0]'] \n",
      "                                                                                                  \n",
      " batch_normalization_30 (BatchN  (None, 26, 26, 128)  512        ['convc21[0][0]']                \n",
      " ormalization)                                                                                    \n",
      "                                                                                                  \n",
      " batch_normalization_33 (BatchN  (None, 26, 26, 128)  512        ['convc31[0][0]']                \n",
      " ormalization)                                                                                    \n",
      "                                                                                                  \n",
      " convc22 (Conv2D)               (None, 24, 24, 256)  295168      ['batch_normalization_30[0][0]'] \n",
      "                                                                                                  \n",
      " convc32 (Conv2D)               (None, 24, 24, 256)  295168      ['batch_normalization_33[0][0]'] \n",
      "                                                                                                  \n",
      " batch_normalization_31 (BatchN  (None, 24, 24, 256)  1024       ['convc22[0][0]']                \n",
      " ormalization)                                                                                    \n",
      "                                                                                                  \n",
      " batch_normalization_34 (BatchN  (None, 24, 24, 256)  1024       ['convc32[0][0]']                \n",
      " ormalization)                                                                                    \n",
      "                                                                                                  \n",
      " convc11 (Conv2D)               (None, 8, 8, 256)    590080      ['batch_normalization_28[0][0]'] \n",
      "                                                                                                  \n",
      " convc23 (Conv2D)               (None, 8, 8, 512)    1180160     ['batch_normalization_31[0][0]'] \n",
      "                                                                                                  \n",
      " convc33 (Conv2D)               (None, 8, 8, 512)    1180160     ['batch_normalization_34[0][0]'] \n",
      "                                                                                                  \n",
      " batch_normalization_29 (BatchN  (None, 8, 8, 256)   1024        ['convc11[0][0]']                \n",
      " ormalization)                                                                                    \n",
      "                                                                                                  \n",
      " batch_normalization_32 (BatchN  (None, 8, 8, 512)   2048        ['convc23[0][0]']                \n",
      " ormalization)                                                                                    \n",
      "                                                                                                  \n",
      " batch_normalization_35 (BatchN  (None, 8, 8, 512)   2048        ['convc33[0][0]']                \n",
      " ormalization)                                                                                    \n",
      "                                                                                                  \n",
      " reshape_layer_c1 (Reshape)     (None, 2048, 8)      0           ['batch_normalization_29[0][0]'] \n",
      "                                                                                                  \n",
      " reshape_layer_c2 (Reshape)     (None, 4096, 8)      0           ['batch_normalization_32[0][0]'] \n",
      "                                                                                                  \n",
      " reshape_layer_f (Reshape)      (None, 4096, 8)      0           ['batch_normalization_35[0][0]'] \n",
      "                                                                                                  \n",
      " squash_layer_c1 (Lambda)       (None, 2048, 8)      0           ['reshape_layer_c1[0][0]']       \n",
      "                                                                                                  \n",
      " squash_layer_c2 (Lambda)       (None, 4096, 8)      0           ['reshape_layer_c2[0][0]']       \n",
      "                                                                                                  \n",
      " squash_layer_f (Lambda)        (None, 4096, 8)      0           ['reshape_layer_f[0][0]']        \n",
      "                                                                                                  \n",
      " Digit_Caps_coarse1 (SecondaryC  (None, 8, 16)       2097152     ['squash_layer_c1[0][0]']        \n",
      " apsule)                                                                                          \n",
      "                                                                                                  \n",
      " Digit_Caps_coarse2 (SecondaryC  (None, 20, 16)      10485760    ['squash_layer_c2[0][0]']        \n",
      " apsule)                                                                                          \n",
      "                                                                                                  \n",
      " Digit_Caps_fine (SecondaryCaps  (None, 100, 16)     52428800    ['squash_layer_f[0][0]']         \n",
      " ule)                                                                                             \n",
      "                                                                                                  \n",
      " Coarse1_prediction_output_laye  (None, 8)           0           ['Digit_Caps_coarse1[0][0]']     \n",
      " r (LengthLayer)                                                                                  \n",
      "                                                                                                  \n",
      " Coarse2_prediction_output_laye  (None, 20)          0           ['Digit_Caps_coarse2[0][0]']     \n",
      " r (LengthLayer)                                                                                  \n",
      "                                                                                                  \n",
      " Fine_prediction_output_layer (  (None, 100)         0           ['Digit_Caps_fine[0][0]']        \n",
      " LengthLayer)                                                                                     \n",
      "                                                                                                  \n",
      " fine_image_label (InputLayer)  [(None, 100)]        0           []                               \n",
      "                                                                                                  \n",
      " coarse2_image_label (InputLaye  [(None, 20)]        0           []                               \n"
     ]
    },
    {
     "name": "stdout",
     "output_type": "stream",
     "text": [
      " r)                                                                                               \n",
      "                                                                                                  \n",
      " coarse1_image_label (InputLaye  [(None, 8)]         0           []                               \n",
      " r)                                                                                               \n",
      "                                                                                                  \n",
      " Mask_input_fine (Mask)         (None, 1600)         0           ['Digit_Caps_fine[0][0]',        \n",
      "                                                                  'fine_image_label[0][0]',       \n",
      "                                                                  'Fine_prediction_output_layer[0]\n",
      "                                                                 [0]']                            \n",
      "                                                                                                  \n",
      " Mask_input_coarse2 (Mask)      (None, 320)          0           ['Digit_Caps_coarse2[0][0]',     \n",
      "                                                                  'coarse2_image_label[0][0]',    \n",
      "                                                                  'Coarse2_prediction_output_layer\n",
      "                                                                 [0][0]']                         \n",
      "                                                                                                  \n",
      " Mask_input_coarse1 (Mask)      (None, 128)          0           ['Digit_Caps_coarse1[0][0]',     \n",
      "                                                                  'coarse1_image_label[0][0]',    \n",
      "                                                                  'Coarse1_prediction_output_layer\n",
      "                                                                 [0][0]']                         \n",
      "                                                                                                  \n",
      " Decoder_fine (Sequential)      (None, 32, 32, 3)    4493824     ['Mask_input_fine[0][0]']        \n",
      "                                                                                                  \n",
      " Decoder_coarse2 (Sequential)   (None, 32, 32, 3)    3838464     ['Mask_input_coarse2[0][0]']     \n",
      "                                                                                                  \n",
      " Decoder_coarse1 (Sequential)   (None, 32, 32, 3)    3740160     ['Mask_input_coarse1[0][0]']     \n",
      "                                                                                                  \n",
      " concatenate_3 (Concatenate)    (None, 32, 32, 9)    0           ['Decoder_fine[0][0]',           \n",
      "                                                                  'Decoder_coarse2[0][0]',        \n",
      "                                                                  'Decoder_coarse1[0][0]']        \n",
      "                                                                                                  \n",
      " dense_39 (Dense)               (None, 32, 32, 4)    40          ['concatenate_3[0][0]']          \n",
      "                                                                                                  \n",
      " Final_output (Dense)           (None, 32, 32, 3)    15          ['dense_39[0][0]']               \n",
      "                                                                                                  \n",
      "==================================================================================================\n",
      "Total params: 80,800,631\n",
      "Trainable params: 80,796,343\n",
      "Non-trainable params: 4,288\n",
      "__________________________________________________________________________________________________\n"
     ]
    }
   ],
   "source": [
    "model.summary()"
   ]
  },
  {
   "cell_type": "code",
   "execution_count": 32,
   "id": "5f99c9db",
   "metadata": {},
   "outputs": [],
   "source": [
    "cifar100 =datasets.CIFAR100()"
   ]
  },
  {
   "cell_type": "code",
   "execution_count": 34,
   "id": "3fd70d18",
   "metadata": {},
   "outputs": [
    {
     "data": {
      "text/plain": [
       "dict_keys(['x_train', 'y_train_coarse', 'y_train_medium', 'y_train_fine', 'x_test', 'y_test_coarse', 'y_test_medium', 'y_test_fine', 'tree'])"
      ]
     },
     "execution_count": 34,
     "metadata": {},
     "output_type": "execute_result"
    }
   ],
   "source": [
    "cifar100.keys()"
   ]
  },
  {
   "cell_type": "code",
   "execution_count": null,
   "id": "7e4b9615",
   "metadata": {},
   "outputs": [],
   "source": []
  }
 ],
 "metadata": {
  "kernelspec": {
   "display_name": "Python [conda env:.conda-py38tf] *",
   "language": "python",
   "name": "conda-env-.conda-py38tf-py"
  },
  "language_info": {
   "codemirror_mode": {
    "name": "ipython",
    "version": 3
   },
   "file_extension": ".py",
   "mimetype": "text/x-python",
   "name": "python",
   "nbconvert_exporter": "python",
   "pygments_lexer": "ipython3",
   "version": "3.8.12"
  },
  "toc": {
   "base_numbering": 1,
   "nav_menu": {},
   "number_sections": true,
   "sideBar": true,
   "skip_h1_title": false,
   "title_cell": "Table of Contents",
   "title_sidebar": "Contents",
   "toc_cell": false,
   "toc_position": {},
   "toc_section_display": true,
   "toc_window_display": true
  }
 },
 "nbformat": 4,
 "nbformat_minor": 5
}
