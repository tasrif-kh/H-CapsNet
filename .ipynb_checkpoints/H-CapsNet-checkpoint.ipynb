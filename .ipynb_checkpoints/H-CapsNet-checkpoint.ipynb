{
 "cells": [
  {
   "cell_type": "markdown",
   "id": "0c80bff9",
   "metadata": {},
   "source": [
    "***\n",
    "<font size=\"6\"><center><b> H-CapsNet: A Capsule Network for Hierarchical Image Classification </b></center></font>\n",
    "***"
   ]
  },
  {
   "cell_type": "markdown",
   "id": "5cc68ea2",
   "metadata": {},
   "source": [
    "# Model Description"
   ]
  },
  {
   "cell_type": "markdown",
   "id": "52e4b202",
   "metadata": {},
   "source": [
    "**H-CapsNet model:**\n",
    "- Use Capsule network for hierarchcial classification\n",
    "- This model contains a deducated feature extraction layer and Capsule netowrk per hierarchy\n",
    "- For training use MixupData data augmentation technique\n",
    "- Model Uses Dynamic LossWeight Distribution system\n",
    "- This model is designed and evaluted using **TensorFlow 2.8.0**"
   ]
  },
  {
   "cell_type": "markdown",
   "id": "ac1aab3b",
   "metadata": {},
   "source": [
    "# Import necessary Files and Libraries"
   ]
  },
  {
   "cell_type": "code",
   "execution_count": 1,
   "id": "85c59a96",
   "metadata": {},
   "outputs": [
    {
     "name": "stdout",
     "output_type": "stream",
     "text": [
      "DONE\n"
     ]
    }
   ],
   "source": [
    "import tensorflow as tf\n",
    "from tensorflow import keras\n",
    "from tensorflow.keras.preprocessing.image import ImageDataGenerator\n",
    "from tensorflow.keras.models import Sequential\n",
    "from tensorflow.keras.layers import Dense, Activation, Flatten, Dropout, BatchNormalization\n",
    "from tensorflow.keras.layers import Conv2D, MaxPooling2D\n",
    "from tensorflow.keras import regularizers, optimizers\n",
    "from tensorflow.keras import backend as K\n",
    "# Supporting Libraries:\n",
    "    #Mathplot lib for ploting graphs\n",
    "%matplotlib inline\n",
    "import matplotlib\n",
    "import matplotlib.pyplot as plt\n",
    "    # numpy and pandas\n",
    "import numpy as np\n",
    "import pandas as pd\n",
    "    #system\n",
    "import os\n",
    "import sys\n",
    "import csv\n",
    "    #import other libraries\n",
    "import math\n",
    "import random\n",
    "from datetime import datetime\n",
    "    # ML model, Dataset and evalution metrics\n",
    "from models import datasets\n",
    "from models import MLmodel\n",
    "from models import metrics\n",
    "from models import MixUp\n",
    "    # For developind (reloades any python scripts)\n",
    "import importlib\n",
    "# importlib.reload(MLmodel)\n"
   ]
  },
  {
   "cell_type": "code",
   "execution_count": 2,
   "id": "83da7418",
   "metadata": {},
   "outputs": [],
   "source": [
    "%load_ext autoreload\n",
    "%autoreload 2"
   ]
  },
  {
   "cell_type": "markdown",
   "id": "e2a610d1",
   "metadata": {},
   "source": [
    "# Print System Information"
   ]
  },
  {
   "cell_type": "code",
   "execution_count": 3,
   "id": "e83a195f",
   "metadata": {},
   "outputs": [
    {
     "name": "stdout",
     "output_type": "stream",
     "text": [
      "\u001b[91m \u001b[1m \n",
      "• COMPUTER NAME = \u001b[0m 30BFPC1AXW95\n",
      "\u001b[91m \u001b[1m \n",
      "• WORKING DIRECTORY:  \u001b[0m D:\\GitHub\\H-CapsNet_A-Capsule-Network-for-Hierarchical-Image-Classification\n",
      "\u001b[91m \u001b[1m \n",
      "• python version =  \u001b[0m 3.8.12 (default, Oct 12 2021, 03:01:40) [MSC v.1916 64 bit (AMD64)]\n",
      "\u001b[91m \u001b[1m \n",
      "• tensorflow version =  \u001b[0m 2.8.0\n",
      "\u001b[91m \u001b[1m \n",
      "• keras version =  \u001b[0m 2.8.0\n",
      "\u001b[91m \u001b[1m \n",
      "• Current Anaconda Environment = \u001b[0m py38tf\n"
     ]
    }
   ],
   "source": [
    "try:\n",
    "    print('\\033[91m','\\033[1m',\"\\n\\u2022\",\"COMPUTER NAME =\", '\\033[0m',os.environ['COMPUTERNAME'])\n",
    "except:\n",
    "    print('\\033[91m','\\033[1m',\"\\n\\u2022\",\"COMPUTER NAME =\", '\\033[0m',os.name)\n",
    "print('\\033[91m','\\033[1m',\"\\n\\u2022\",\"WORKING DIRECTORY: \",'\\033[0m',os.getcwd())\n",
    "print('\\033[91m','\\033[1m',\"\\n\\u2022\",\"python version = \", '\\033[0m', sys.version,)\n",
    "print('\\033[91m','\\033[1m',\"\\n\\u2022\",\"tensorflow version = \" ,'\\033[0m',tf.__version__)\n",
    "print('\\033[91m','\\033[1m',\"\\n\\u2022\",\"keras version = \", '\\033[0m',tf.keras.__version__)\n",
    "try:\n",
    "  print('\\033[91m','\\033[1m',\"\\n\\u2022\",\"Current Anaconda Environment =\", '\\033[0m',os.environ['CONDA_DEFAULT_ENV'])\n",
    "except:\n",
    "  print('\\033[91m','\\033[1m',\"\\n\\u2022\",\"Not Using Anaconda\", '\\033[0m')"
   ]
  },
  {
   "cell_type": "markdown",
   "id": "78407188",
   "metadata": {},
   "source": [
    "# Defining GPU memory growth"
   ]
  },
  {
   "cell_type": "code",
   "execution_count": 4,
   "id": "95ca746c",
   "metadata": {},
   "outputs": [
    {
     "name": "stdout",
     "output_type": "stream",
     "text": [
      "GPU 0: NVIDIA GeForce RTX 2080 Ti (UUID: GPU-40c1a3ca-27b3-3f4c-5286-ebba95c166bd)\n"
     ]
    }
   ],
   "source": [
    "! nvidia-smi --list-gpus"
   ]
  },
  {
   "cell_type": "raw",
   "id": "741fec5b",
   "metadata": {},
   "source": [
    "## For Using Multiple GPUs\n",
    "os.environ[\"CUDA_VISIBLE_DEVICES\"]=\"0,1,2,3,4,5,6,7\" ## Include GPU Numbers"
   ]
  },
  {
   "cell_type": "code",
   "execution_count": 5,
   "id": "7fe65137",
   "metadata": {},
   "outputs": [
    {
     "name": "stdout",
     "output_type": "stream",
     "text": [
      "Done: GPU PhysicalDevice(name='/physical_device:GPU:0', device_type='GPU')\n",
      "1 Physical GPUs, 1 Logical GPUs\n"
     ]
    }
   ],
   "source": [
    "gpus = tf.config.experimental.list_physical_devices('GPU')\n",
    "if gpus:\n",
    "    try:\n",
    "        # Currently, memory growth needs to be the same across GPUs\n",
    "        for gpu in gpus:\n",
    "            tf.config.experimental.set_memory_growth(gpu, True)\n",
    "            print(\"Done: GPU \"+str(gpu))\n",
    "        logical_gpus = tf.config.experimental.list_logical_devices('GPU')\n",
    "        print(len(gpus), \"Physical GPUs,\", len(logical_gpus), \"Logical GPUs\")\n",
    "    except RuntimeError as e:\n",
    "        # Memory growth must be set before GPUs have been initialized\n",
    "        print(e)"
   ]
  },
  {
   "cell_type": "markdown",
   "id": "44a0baf4",
   "metadata": {},
   "source": [
    "# Training parameters"
   ]
  },
  {
   "cell_type": "markdown",
   "id": "bcd5e5ce",
   "metadata": {},
   "source": [
    "## LOG Directory"
   ]
  },
  {
   "cell_type": "code",
   "execution_count": 6,
   "id": "296150a8",
   "metadata": {},
   "outputs": [],
   "source": [
    "def log_dir(name: str):\n",
    "    \"\"\"\n",
    "    Create a log directory and returen the directory as String\n",
    "    \"\"\"\n",
    "    base_path = \"./logs/\"+name\n",
    "    if not os.path.exists(base_path):\n",
    "        os.makedirs(base_path)\n",
    "        print(\"FOLDER CREATED = \", base_path)\n",
    "    else:\n",
    "        print(\"Warning: Folder already exist.\")\n",
    "    return base_path"
   ]
  },
  {
   "cell_type": "code",
   "execution_count": 7,
   "id": "7ba58d8a",
   "metadata": {},
   "outputs": [
    {
     "name": "stdout",
     "output_type": "stream",
     "text": [
      "FOLDER CREATED =  ./logs/name\n"
     ]
    }
   ],
   "source": [
    "x = log_dir('name')"
   ]
  },
  {
   "cell_type": "code",
   "execution_count": 8,
   "id": "71218708",
   "metadata": {},
   "outputs": [
    {
     "name": "stdout",
     "output_type": "stream",
     "text": [
      "./logs/name\n"
     ]
    }
   ],
   "source": [
    "print(x)"
   ]
  },
  {
   "cell_type": "markdown",
   "id": "afd9fce3",
   "metadata": {},
   "source": [
    "## Parameters"
   ]
  },
  {
   "cell_type": "code",
   "execution_count": 15,
   "id": "d8b9b470",
   "metadata": {},
   "outputs": [],
   "source": [
    "train_params = {\"n_epochs\" : 50,\n",
    "                \"batch_size\": 128,\n",
    "                \"lr\": 0.001, # Initial learning rate\n",
    "                \"lr_decay\": 0.95, # Learning rate decay\n",
    "               }\n",
    "CapsNet = {\"P_Cap_Dim\" : 8, # Primary Capsule Dimentions\n",
    "           \"S_Cap_Dim\" : 16, # Secondary Capsule Dimention\n",
    "           \"Reconstruction_LW\" : 0.0005 # Decoder loss weight\n",
    "          }"
   ]
  },
  {
   "cell_type": "markdown",
   "id": "3411b37b",
   "metadata": {},
   "source": [
    "# MNIST dataset"
   ]
  },
  {
   "cell_type": "markdown",
   "id": "012a135d",
   "metadata": {},
   "source": [
    "## Import MNIST dataset"
   ]
  },
  {
   "cell_type": "code",
   "execution_count": 23,
   "id": "273685f9",
   "metadata": {
    "scrolled": true
   },
   "outputs": [
    {
     "name": "stdout",
     "output_type": "stream",
     "text": [
      "dict_keys(['x_train', 'y_train_coarse', 'y_train_fine', 'x_test', 'y_test_coarse', 'y_test_fine', 'tree'])\n",
      "Root\n",
      "├── Coarse_0\n",
      "│   ├── Fine_0\n",
      "│   └── Fine_6\n",
      "├── Coarse_1\n",
      "│   ├── Fine_2\n",
      "│   └── Fine_8\n",
      "├── Coarse_2\n",
      "│   ├── Fine_1\n",
      "│   └── Fine_7\n",
      "├── Coarse_3\n",
      "│   ├── Fine_4\n",
      "│   └── Fine_9\n",
      "└── Coarse_4\n",
      "    ├── Fine_3\n",
      "    └── Fine_5\n",
      "\n",
      "INPUT SHAPE: (28, 28, 1) \n",
      "\n",
      "TRAIN: \r\n",
      "\n",
      "(60000, 28, 28, 1)\n",
      "(60000, 10)\n",
      "(60000, 5)\n",
      "\n",
      "TEST: \r\n",
      "\n",
      "(10000, 28, 28, 1)\n",
      "(10000, 10)\n",
      "(60000, 5)\n",
      "Number of Classes in Label Tree: \n",
      "Coarse Level =  5 \n",
      "Fine Level =  10\n"
     ]
    },
    {
     "data": {
      "image/png": "[encoded data removed]",
      "text/plain": [
       "<Figure size 1440x1440 with 10 Axes>"
      ]
     },
     "metadata": {},
     "output_type": "display_data"
    }
   ],
   "source": [
    "## Import dataset\n",
    "dataset = datasets.MNIST()\n",
    "print(dataset.keys())\n",
    "dataset['tree'].show()\n",
    "\n",
    "input_shape = dataset['x_train'].shape[1:]\n",
    "print('INPUT SHAPE:',input_shape,'\\n')\n",
    "\n",
    "print(\"TRAIN: \\r\\n\")\n",
    "print(dataset['x_train'].shape)\n",
    "print(dataset['y_train_fine'].shape)\n",
    "print(dataset['y_train_coarse'].shape)\n",
    "\n",
    "print(\"\\nTEST: \\r\\n\")\n",
    "print(dataset['x_test'].shape)\n",
    "print(dataset['y_test_fine'].shape)\n",
    "print(dataset['y_train_coarse'].shape)\n",
    "\n",
    "fine_class = len(np.unique(np.argmax(dataset['y_test_fine'], axis=1)))\n",
    "coarse_class = len(np.unique(np.argmax(dataset['y_train_coarse'], axis=1)))\n",
    "print('Number of Classes in Label Tree:',\n",
    "      '\\nCoarse Level = ',coarse_class,\n",
    "      '\\nFine Level = ',fine_class)\n",
    "\n",
    "    # Plot Random samples \n",
    "datasets.plot_sample_image(dataset['x_train'],\n",
    "                           {'coarse':dataset['y_train_coarse'],\n",
    "                            'fine':dataset['y_train_fine']})"
   ]
  },
  {
   "cell_type": "markdown",
   "id": "fa2d07f2",
   "metadata": {},
   "source": [
    "## Create ML Model"
   ]
  },
  {
   "cell_type": "markdown",
   "id": "e4009f65",
   "metadata": {},
   "source": [
    "### Model parameters"
   ]
  },
  {
   "cell_type": "code",
   "execution_count": 19,
   "id": "4ea3cfcc",
   "metadata": {},
   "outputs": [],
   "source": [
    "def get_compiled_model():\n",
    "    model = MLmodel.MNIST_HCapsNet(input_shape,\n",
    "                                   coarse_class, fine_class)\n",
    "    model.compile(\n",
    "        optimizer='adam',\n",
    "        #### outputs= [coarse1_pred_layer, coarse2_pred_layer, fine_pred_layer, concatted] ###\n",
    "        loss=[MLmodel.MarginLoss(),\n",
    "              MLmodel.MarginLoss(),\n",
    "              'mse'],\n",
    "        loss_weights=[coarse_lw, fine_lw, CapsNet[\"Reconstruction_LW\"]],\n",
    "        metrics={'Fine_prediction_output_layer': 'accuracy',\n",
    "                 'Coarse_prediction_output_layer': 'accuracy'\n",
    "                }\n",
    "    )\n",
    "    return model"
   ]
  },
  {
   "cell_type": "code",
   "execution_count": 20,
   "id": "19bb3ee1",
   "metadata": {
    "scrolled": true
   },
   "outputs": [
    {
     "ename": "NameError",
     "evalue": "name 'coarse_lw' is not defined",
     "output_type": "error",
     "traceback": [
      "\u001b[1;31m---------------------------------------------------------------------------\u001b[0m",
      "\u001b[1;31mNameError\u001b[0m                                 Traceback (most recent call last)",
      "\u001b[1;32m~\\AppData\\Local\\Temp/ipykernel_4048/833550371.py\u001b[0m in \u001b[0;36m<module>\u001b[1;34m\u001b[0m\n\u001b[1;32m----> 1\u001b[1;33m \u001b[0mmodel\u001b[0m \u001b[1;33m=\u001b[0m \u001b[0mmodel\u001b[0m \u001b[1;33m=\u001b[0m \u001b[0mget_compiled_model\u001b[0m\u001b[1;33m(\u001b[0m\u001b[1;33m)\u001b[0m\u001b[1;33m\u001b[0m\u001b[1;33m\u001b[0m\u001b[0m\n\u001b[0m\u001b[0;32m      2\u001b[0m \u001b[0mmodel\u001b[0m\u001b[1;33m.\u001b[0m\u001b[0msummary\u001b[0m\u001b[1;33m(\u001b[0m\u001b[1;33m)\u001b[0m\u001b[1;33m\u001b[0m\u001b[1;33m\u001b[0m\u001b[0m\n",
      "\u001b[1;32m~\\AppData\\Local\\Temp/ipykernel_4048/474995209.py\u001b[0m in \u001b[0;36mget_compiled_model\u001b[1;34m()\u001b[0m\n\u001b[0;32m      8\u001b[0m               \u001b[0mMLmodel\u001b[0m\u001b[1;33m.\u001b[0m\u001b[0mMarginLoss\u001b[0m\u001b[1;33m(\u001b[0m\u001b[1;33m)\u001b[0m\u001b[1;33m,\u001b[0m\u001b[1;33m\u001b[0m\u001b[1;33m\u001b[0m\u001b[0m\n\u001b[0;32m      9\u001b[0m               'mse'],\n\u001b[1;32m---> 10\u001b[1;33m         \u001b[0mloss_weights\u001b[0m\u001b[1;33m=\u001b[0m\u001b[1;33m[\u001b[0m\u001b[0mcoarse_lw\u001b[0m\u001b[1;33m,\u001b[0m \u001b[0mfine_lw\u001b[0m\u001b[1;33m,\u001b[0m \u001b[0mCapsNet\u001b[0m\u001b[1;33m[\u001b[0m\u001b[1;34m\"Reconstruction_LW\"\u001b[0m\u001b[1;33m]\u001b[0m\u001b[1;33m]\u001b[0m\u001b[1;33m,\u001b[0m\u001b[1;33m\u001b[0m\u001b[1;33m\u001b[0m\u001b[0m\n\u001b[0m\u001b[0;32m     11\u001b[0m         metrics={'Fine_prediction_output_layer': 'accuracy',\n\u001b[0;32m     12\u001b[0m                  \u001b[1;34m'Coarse_prediction_output_layer'\u001b[0m\u001b[1;33m:\u001b[0m \u001b[1;34m'accuracy'\u001b[0m\u001b[1;33m\u001b[0m\u001b[1;33m\u001b[0m\u001b[0m\n",
      "\u001b[1;31mNameError\u001b[0m: name 'coarse_lw' is not defined"
     ]
    }
   ],
   "source": [
    "model = model = get_compiled_model()\n",
    "model.summary()"
   ]
  },
  {
   "cell_type": "code",
   "execution_count": null,
   "id": "a6509e0e",
   "metadata": {},
   "outputs": [],
   "source": []
  },
  {
   "cell_type": "code",
   "execution_count": 24,
   "id": "e411d908",
   "metadata": {},
   "outputs": [],
   "source": [
    "def initial_lw(class_labels : list):\n",
    "    \"\"\"\n",
    "    Give brach input in a list.\n",
    "    Example for 3 classes with 2, 7, 10 hierarchy will be in following format:\n",
    "    no_branch_class = [2, 7, 10]\n",
    "    The Function will return c vaules in a list\n",
    "    \"\"\"\n",
    "    c = len(np.unique(np.argmax(class_labels, axis=1)))\n",
    "    \n",
    "    return c"
   ]
  },
  {
   "cell_type": "code",
   "execution_count": 27,
   "id": "058de367",
   "metadata": {},
   "outputs": [
    {
     "name": "stderr",
     "output_type": "stream",
     "text": [
      "C:\\Users\\knoor\\.conda\\envs\\py38tf\\lib\\site-packages\\numpy\\core\\fromnumeric.py:43: VisibleDeprecationWarning: Creating an ndarray from ragged nested sequences (which is a list-or-tuple of lists-or-tuples-or ndarrays with different lengths or shapes) is deprecated. If you meant to do this, you must specify 'dtype=object' when creating the ndarray.\n",
      "  result = getattr(asarray(obj), method)(*args, **kwds)\n"
     ]
    },
    {
     "ename": "AxisError",
     "evalue": "axis 1 is out of bounds for array of dimension 1",
     "output_type": "error",
     "traceback": [
      "\u001b[1;31m---------------------------------------------------------------------------\u001b[0m",
      "\u001b[1;31mAxisError\u001b[0m                                 Traceback (most recent call last)",
      "\u001b[1;32m~\\AppData\\Local\\Temp/ipykernel_4048/738378574.py\u001b[0m in \u001b[0;36m<module>\u001b[1;34m\u001b[0m\n\u001b[1;32m----> 1\u001b[1;33m \u001b[0minitial_lw\u001b[0m\u001b[1;33m(\u001b[0m\u001b[1;33m[\u001b[0m\u001b[0mdataset\u001b[0m\u001b[1;33m[\u001b[0m\u001b[1;34m'y_train_coarse'\u001b[0m\u001b[1;33m]\u001b[0m\u001b[1;33m,\u001b[0m \u001b[0mdataset\u001b[0m\u001b[1;33m[\u001b[0m\u001b[1;34m'y_test_fine'\u001b[0m\u001b[1;33m]\u001b[0m\u001b[1;33m]\u001b[0m\u001b[1;33m)\u001b[0m\u001b[1;33m\u001b[0m\u001b[1;33m\u001b[0m\u001b[0m\n\u001b[0m",
      "\u001b[1;32m~\\AppData\\Local\\Temp/ipykernel_4048/3357530364.py\u001b[0m in \u001b[0;36minitial_lw\u001b[1;34m(class_labels)\u001b[0m\n\u001b[0;32m      6\u001b[0m     \u001b[0mThe\u001b[0m \u001b[0mFunction\u001b[0m \u001b[0mwill\u001b[0m \u001b[1;32mreturn\u001b[0m \u001b[0mc\u001b[0m \u001b[0mvaules\u001b[0m \u001b[1;32min\u001b[0m \u001b[0ma\u001b[0m \u001b[0mlist\u001b[0m\u001b[1;33m\u001b[0m\u001b[1;33m\u001b[0m\u001b[0m\n\u001b[0;32m      7\u001b[0m     \"\"\"\n\u001b[1;32m----> 8\u001b[1;33m     \u001b[0mc\u001b[0m \u001b[1;33m=\u001b[0m \u001b[0mlen\u001b[0m\u001b[1;33m(\u001b[0m\u001b[0mnp\u001b[0m\u001b[1;33m.\u001b[0m\u001b[0munique\u001b[0m\u001b[1;33m(\u001b[0m\u001b[0mnp\u001b[0m\u001b[1;33m.\u001b[0m\u001b[0margmax\u001b[0m\u001b[1;33m(\u001b[0m\u001b[0mclass_labels\u001b[0m\u001b[1;33m,\u001b[0m \u001b[0maxis\u001b[0m\u001b[1;33m=\u001b[0m\u001b[1;36m1\u001b[0m\u001b[1;33m)\u001b[0m\u001b[1;33m)\u001b[0m\u001b[1;33m)\u001b[0m\u001b[1;33m\u001b[0m\u001b[1;33m\u001b[0m\u001b[0m\n\u001b[0m\u001b[0;32m      9\u001b[0m \u001b[1;33m\u001b[0m\u001b[0m\n\u001b[0;32m     10\u001b[0m     \u001b[1;32mreturn\u001b[0m \u001b[0mc\u001b[0m\u001b[1;33m\u001b[0m\u001b[1;33m\u001b[0m\u001b[0m\n",
      "\u001b[1;32m<__array_function__ internals>\u001b[0m in \u001b[0;36margmax\u001b[1;34m(*args, **kwargs)\u001b[0m\n",
      "\u001b[1;32m~\\.conda\\envs\\py38tf\\lib\\site-packages\\numpy\\core\\fromnumeric.py\u001b[0m in \u001b[0;36margmax\u001b[1;34m(a, axis, out)\u001b[0m\n\u001b[0;32m   1193\u001b[0m \u001b[1;33m\u001b[0m\u001b[0m\n\u001b[0;32m   1194\u001b[0m     \"\"\"\n\u001b[1;32m-> 1195\u001b[1;33m     \u001b[1;32mreturn\u001b[0m \u001b[0m_wrapfunc\u001b[0m\u001b[1;33m(\u001b[0m\u001b[0ma\u001b[0m\u001b[1;33m,\u001b[0m \u001b[1;34m'argmax'\u001b[0m\u001b[1;33m,\u001b[0m \u001b[0maxis\u001b[0m\u001b[1;33m=\u001b[0m\u001b[0maxis\u001b[0m\u001b[1;33m,\u001b[0m \u001b[0mout\u001b[0m\u001b[1;33m=\u001b[0m\u001b[0mout\u001b[0m\u001b[1;33m)\u001b[0m\u001b[1;33m\u001b[0m\u001b[1;33m\u001b[0m\u001b[0m\n\u001b[0m\u001b[0;32m   1196\u001b[0m \u001b[1;33m\u001b[0m\u001b[0m\n\u001b[0;32m   1197\u001b[0m \u001b[1;33m\u001b[0m\u001b[0m\n",
      "\u001b[1;32m~\\.conda\\envs\\py38tf\\lib\\site-packages\\numpy\\core\\fromnumeric.py\u001b[0m in \u001b[0;36m_wrapfunc\u001b[1;34m(obj, method, *args, **kwds)\u001b[0m\n\u001b[0;32m     52\u001b[0m     \u001b[0mbound\u001b[0m \u001b[1;33m=\u001b[0m \u001b[0mgetattr\u001b[0m\u001b[1;33m(\u001b[0m\u001b[0mobj\u001b[0m\u001b[1;33m,\u001b[0m \u001b[0mmethod\u001b[0m\u001b[1;33m,\u001b[0m \u001b[1;32mNone\u001b[0m\u001b[1;33m)\u001b[0m\u001b[1;33m\u001b[0m\u001b[1;33m\u001b[0m\u001b[0m\n\u001b[0;32m     53\u001b[0m     \u001b[1;32mif\u001b[0m \u001b[0mbound\u001b[0m \u001b[1;32mis\u001b[0m \u001b[1;32mNone\u001b[0m\u001b[1;33m:\u001b[0m\u001b[1;33m\u001b[0m\u001b[1;33m\u001b[0m\u001b[0m\n\u001b[1;32m---> 54\u001b[1;33m         \u001b[1;32mreturn\u001b[0m \u001b[0m_wrapit\u001b[0m\u001b[1;33m(\u001b[0m\u001b[0mobj\u001b[0m\u001b[1;33m,\u001b[0m \u001b[0mmethod\u001b[0m\u001b[1;33m,\u001b[0m \u001b[1;33m*\u001b[0m\u001b[0margs\u001b[0m\u001b[1;33m,\u001b[0m \u001b[1;33m**\u001b[0m\u001b[0mkwds\u001b[0m\u001b[1;33m)\u001b[0m\u001b[1;33m\u001b[0m\u001b[1;33m\u001b[0m\u001b[0m\n\u001b[0m\u001b[0;32m     55\u001b[0m \u001b[1;33m\u001b[0m\u001b[0m\n\u001b[0;32m     56\u001b[0m     \u001b[1;32mtry\u001b[0m\u001b[1;33m:\u001b[0m\u001b[1;33m\u001b[0m\u001b[1;33m\u001b[0m\u001b[0m\n",
      "\u001b[1;32m~\\.conda\\envs\\py38tf\\lib\\site-packages\\numpy\\core\\fromnumeric.py\u001b[0m in \u001b[0;36m_wrapit\u001b[1;34m(obj, method, *args, **kwds)\u001b[0m\n\u001b[0;32m     41\u001b[0m     \u001b[1;32mexcept\u001b[0m \u001b[0mAttributeError\u001b[0m\u001b[1;33m:\u001b[0m\u001b[1;33m\u001b[0m\u001b[1;33m\u001b[0m\u001b[0m\n\u001b[0;32m     42\u001b[0m         \u001b[0mwrap\u001b[0m \u001b[1;33m=\u001b[0m \u001b[1;32mNone\u001b[0m\u001b[1;33m\u001b[0m\u001b[1;33m\u001b[0m\u001b[0m\n\u001b[1;32m---> 43\u001b[1;33m     \u001b[0mresult\u001b[0m \u001b[1;33m=\u001b[0m \u001b[0mgetattr\u001b[0m\u001b[1;33m(\u001b[0m\u001b[0masarray\u001b[0m\u001b[1;33m(\u001b[0m\u001b[0mobj\u001b[0m\u001b[1;33m)\u001b[0m\u001b[1;33m,\u001b[0m \u001b[0mmethod\u001b[0m\u001b[1;33m)\u001b[0m\u001b[1;33m(\u001b[0m\u001b[1;33m*\u001b[0m\u001b[0margs\u001b[0m\u001b[1;33m,\u001b[0m \u001b[1;33m**\u001b[0m\u001b[0mkwds\u001b[0m\u001b[1;33m)\u001b[0m\u001b[1;33m\u001b[0m\u001b[1;33m\u001b[0m\u001b[0m\n\u001b[0m\u001b[0;32m     44\u001b[0m     \u001b[1;32mif\u001b[0m \u001b[0mwrap\u001b[0m\u001b[1;33m:\u001b[0m\u001b[1;33m\u001b[0m\u001b[1;33m\u001b[0m\u001b[0m\n\u001b[0;32m     45\u001b[0m         \u001b[1;32mif\u001b[0m \u001b[1;32mnot\u001b[0m \u001b[0misinstance\u001b[0m\u001b[1;33m(\u001b[0m\u001b[0mresult\u001b[0m\u001b[1;33m,\u001b[0m \u001b[0mmu\u001b[0m\u001b[1;33m.\u001b[0m\u001b[0mndarray\u001b[0m\u001b[1;33m)\u001b[0m\u001b[1;33m:\u001b[0m\u001b[1;33m\u001b[0m\u001b[1;33m\u001b[0m\u001b[0m\n",
      "\u001b[1;31mAxisError\u001b[0m: axis 1 is out of bounds for array of dimension 1"
     ]
    }
   ],
   "source": [
    "initial_lw([dataset['y_train_coarse'], dataset['y_test_fine']])"
   ]
  },
  {
   "cell_type": "code",
   "execution_count": 30,
   "id": "5cf822d3",
   "metadata": {},
   "outputs": [
    {
     "data": {
      "text/plain": [
       "1"
      ]
     },
     "execution_count": 30,
     "metadata": {},
     "output_type": "execute_result"
    }
   ],
   "source": [
    "len([dataset['y_train_coarse']])"
   ]
  },
  {
   "cell_type": "markdown",
   "id": "099dcb95",
   "metadata": {},
   "source": [
    "## Training Model"
   ]
  },
  {
   "cell_type": "code",
   "execution_count": null,
   "id": "09e695e9",
   "metadata": {},
   "outputs": [],
   "source": []
  },
  {
   "cell_type": "markdown",
   "id": "5e02e8d4",
   "metadata": {},
   "source": [
    "## Model Analysis"
   ]
  },
  {
   "cell_type": "code",
   "execution_count": null,
   "id": "cd4f7d85",
   "metadata": {},
   "outputs": [],
   "source": []
  },
  {
   "cell_type": "markdown",
   "id": "8923c7c3",
   "metadata": {},
   "source": [
    "# EMNIST Dataset"
   ]
  },
  {
   "cell_type": "markdown",
   "id": "0c7a8285",
   "metadata": {},
   "source": [
    "## Import EMNIST dataset"
   ]
  },
  {
   "cell_type": "code",
   "execution_count": 22,
   "id": "925ce4bd",
   "metadata": {
    "scrolled": true
   },
   "outputs": [
    {
     "name": "stdout",
     "output_type": "stream",
     "text": [
      "['balanced', 'byclass', 'bymerge', 'digits', 'letters', 'mnist']\n",
      "Complete loading training samples as: x_train, y_train\n",
      "Complete loading test samples as: x_test, y_test\n",
      "dict_keys(['x_train', 'y_train_coarse', 'y_train_fine', 'x_test', 'y_test_coarse', 'y_test_fine', 'tree'])\n",
      "Root\n",
      "├── Coarse_0\n",
      "│   ├── Fine_0\n",
      "│   ├── Fine_1\n",
      "│   ├── Fine_2\n",
      "│   ├── Fine_3\n",
      "│   ├── Fine_4\n",
      "│   ├── Fine_5\n",
      "│   ├── Fine_6\n",
      "│   ├── Fine_7\n",
      "│   ├── Fine_8\n",
      "│   └── Fine_9\n",
      "└── Coarse_1\n",
      "    ├── Fine_10\n",
      "    ├── Fine_11\n",
      "    ├── Fine_12\n",
      "    ├── Fine_13\n",
      "    ├── Fine_14\n",
      "    ├── Fine_15\n",
      "    ├── Fine_16\n",
      "    ├── Fine_17\n",
      "    ├── Fine_18\n",
      "    ├── Fine_19\n",
      "    ├── Fine_20\n",
      "    ├── Fine_21\n",
      "    ├── Fine_22\n",
      "    ├── Fine_23\n",
      "    ├── Fine_24\n",
      "    ├── Fine_25\n",
      "    ├── Fine_26\n",
      "    ├── Fine_27\n",
      "    ├── Fine_28\n",
      "    ├── Fine_29\n",
      "    ├── Fine_30\n",
      "    ├── Fine_31\n",
      "    ├── Fine_32\n",
      "    ├── Fine_33\n",
      "    ├── Fine_34\n",
      "    ├── Fine_35\n",
      "    ├── Fine_36\n",
      "    ├── Fine_37\n",
      "    ├── Fine_38\n",
      "    ├── Fine_39\n",
      "    ├── Fine_40\n",
      "    ├── Fine_41\n",
      "    ├── Fine_42\n",
      "    ├── Fine_43\n",
      "    ├── Fine_44\n",
      "    ├── Fine_45\n",
      "    └── Fine_46\n",
      "\n",
      "INPUT SHAPE: (28, 28, 1) \n",
      "\n",
      "TRAIN: \n",
      "\n",
      "(112800, 28, 28, 1)\n",
      "(112800, 47)\n",
      "(112800, 2)\n",
      "\n",
      "TEST: \n",
      "\n",
      "(18800, 28, 28, 1)\n",
      "(18800, 47)\n",
      "(112800, 2)\n",
      "Number of Classes in Label Tree: \n",
      "Coarse Level =  2 \n",
      "Fine Level =  47\n"
     ]
    },
    {
     "data": {
      "image/png": "[encoded data removed]",
      "text/plain": [
       "<Figure size 1440x1440 with 10 Axes>"
      ]
     },
     "metadata": {},
     "output_type": "display_data"
    }
   ],
   "source": [
    "## Import dataset\n",
    "dataset = datasets.E_MNIST()\n",
    "print(dataset.keys())\n",
    "dataset['tree'].show()\n",
    "\n",
    "input_shape = dataset['x_train'].shape[1:]\n",
    "print('INPUT SHAPE:',input_shape,'\\n')\n",
    "\n",
    "print(\"TRAIN: \\r\\n\")\n",
    "print(dataset['x_train'].shape)\n",
    "print(dataset['y_train_fine'].shape)\n",
    "print(dataset['y_train_coarse'].shape)\n",
    "\n",
    "print(\"\\nTEST: \\r\\n\")\n",
    "print(dataset['x_test'].shape)\n",
    "print(dataset['y_test_fine'].shape)\n",
    "print(dataset['y_train_coarse'].shape)\n",
    "\n",
    "fine_class = len(np.unique(np.argmax(dataset['y_test_fine'], axis=1)))\n",
    "coarse_class = len(np.unique(np.argmax(dataset['y_train_coarse'], axis=1)))\n",
    "print('Number of Classes in Label Tree:',\n",
    "      '\\nCoarse Level = ',coarse_class,\n",
    "      '\\nFine Level = ',fine_class)\n",
    "    # Plot Random samples \n",
    "datasets.plot_sample_image(dataset['x_train'],\n",
    "                           {'coarse':dataset['y_train_coarse'],\n",
    "                            'fine':dataset['y_train_fine']})"
   ]
  },
  {
   "cell_type": "markdown",
   "id": "dcec22de",
   "metadata": {},
   "source": [
    "# Fashion-MNIST dataset"
   ]
  },
  {
   "cell_type": "markdown",
   "id": "49a70a8d",
   "metadata": {},
   "source": [
    "## Import Fashion-MNIST dataset"
   ]
  },
  {
   "cell_type": "code",
   "execution_count": 92,
   "id": "20ec0f28",
   "metadata": {
    "scrolled": true
   },
   "outputs": [
    {
     "name": "stdout",
     "output_type": "stream",
     "text": [
      "dict_keys(['x_train', 'y_train_coarse', 'y_train_medium', 'y_train_fine', 'x_test', 'y_test_coarse', 'y_test_medium', 'y_test_fine', 'tree'])\n",
      "Root\n",
      "├── Coarse_0\n",
      "│   ├── Medium0\n",
      "│   │   ├── Fine_0\n",
      "│   │   ├── Fine_2\n",
      "│   │   └── Fine_6\n",
      "│   ├── Medium1\n",
      "│   │   └── Fine_1\n",
      "│   ├── Medium2\n",
      "│   │   └── Fine_3\n",
      "│   └── Medium3\n",
      "│       └── Fine_4\n",
      "└── Coarse_1\n",
      "    ├── Medium4\n",
      "    │   └── Fine_8\n",
      "    └── Medium5\n",
      "        ├── Fine_5\n",
      "        ├── Fine_7\n",
      "        └── Fine_9\n",
      "\n",
      "INPUT SHAPE: (28, 28, 1) \n",
      "\n",
      "TRAIN: \r\n",
      "\n",
      "(60000, 28, 28, 1)\n",
      "(60000, 10)\n",
      "(60000, 6)\n",
      "(60000, 2)\n",
      "\n",
      "TEST: \r\n",
      "\n",
      "(10000, 28, 28, 1)\n",
      "(10000, 10)\n",
      "(60000, 6)\n",
      "(60000, 2)\n",
      "Number of Classes in Label Tree: \n",
      "Coarse Level =  2 \n",
      "Medium Level =  6 \n",
      "Fine Level =  10\n"
     ]
    },
    {
     "data": {
      "image/png": "[encoded data removed]",
      "text/plain": [
       "<Figure size 1440x1440 with 10 Axes>"
      ]
     },
     "metadata": {},
     "output_type": "display_data"
    }
   ],
   "source": [
    "## Import dataset\n",
    "dataset = datasets.F_MNIST()\n",
    "print(dataset.keys())\n",
    "dataset['tree'].show()\n",
    "\n",
    "input_shape = dataset['x_train'].shape[1:]\n",
    "print('INPUT SHAPE:',input_shape,'\\n')\n",
    "\n",
    "print(\"TRAIN: \\r\\n\")\n",
    "print(dataset['x_train'].shape)\n",
    "print(dataset['y_train_fine'].shape)\n",
    "print(dataset['y_train_medium'].shape)\n",
    "print(dataset['y_train_coarse'].shape)\n",
    "\n",
    "print(\"\\nTEST: \\r\\n\")\n",
    "print(dataset['x_test'].shape)\n",
    "print(dataset['y_test_fine'].shape)\n",
    "print(dataset['y_train_medium'].shape)\n",
    "print(dataset['y_train_coarse'].shape)\n",
    "\n",
    "fine_class = len(np.unique(np.argmax(dataset['y_test_fine'], axis=1)))\n",
    "medium_class = len(np.unique(np.argmax(dataset['y_train_medium'], axis=1)))\n",
    "coarse_class = len(np.unique(np.argmax(dataset['y_train_coarse'], axis=1)))\n",
    "print('Number of Classes in Label Tree:',\n",
    "      '\\nCoarse Level = ',coarse_class,\n",
    "      '\\nMedium Level = ',medium_class,\n",
    "      '\\nFine Level = ',fine_class)\n",
    "\n",
    "datasets.plot_sample_image(dataset['x_train'],\n",
    "                           {'coarse':dataset['y_train_coarse'],\n",
    "                            'medium':dataset['y_train_medium'],\n",
    "                            'fine':dataset['y_train_fine']})"
   ]
  },
  {
   "cell_type": "markdown",
   "id": "805bdd1f",
   "metadata": {},
   "source": [
    "# CIFAR-10 Dataset"
   ]
  },
  {
   "cell_type": "markdown",
   "id": "6c386a4b",
   "metadata": {},
   "source": [
    "## Import CIFAR-10 dataset"
   ]
  },
  {
   "cell_type": "code",
   "execution_count": 25,
   "id": "58a1b9b0",
   "metadata": {
    "scrolled": true
   },
   "outputs": [
    {
     "name": "stdout",
     "output_type": "stream",
     "text": [
      "dict_keys(['x_train', 'y_train_coarse', 'y_train_medium', 'y_train_fine', 'x_test', 'y_test_coarse', 'y_test_medium', 'y_test_fine', 'tree'])\n",
      "Root\n",
      "├── Coarse_0\n",
      "│   ├── Medium0\n",
      "│   │   └── Fine_0\n",
      "│   ├── Medium1\n",
      "│   │   └── Fine_8\n",
      "│   └── Medium2\n",
      "│       ├── Fine_1\n",
      "│       └── Fine_9\n",
      "└── Coarse_1\n",
      "    ├── Medium3\n",
      "    │   └── Fine_2\n",
      "    ├── Medium4\n",
      "    │   └── Fine_6\n",
      "    ├── Medium5\n",
      "    │   ├── Fine_3\n",
      "    │   └── Fine_5\n",
      "    └── Medium6\n",
      "        ├── Fine_4\n",
      "        └── Fine_7\n",
      "\n",
      "INPUT SHAPE: (32, 32, 3) \n",
      "\n",
      "TRAIN: \r\n",
      "\n",
      "(50000, 32, 32, 3)\n",
      "(50000, 10)\n",
      "(50000, 7)\n",
      "(50000, 2)\n",
      "\n",
      "TEST: \r\n",
      "\n",
      "(10000, 32, 32, 3)\n",
      "(10000, 10)\n",
      "(50000, 7)\n",
      "(50000, 2)\n"
     ]
    }
   ],
   "source": [
    "## Import dataset\n",
    "dataset = datasets.CIFAR10()\n",
    "print(dataset.keys())\n",
    "dataset['tree'].show()\n",
    "\n",
    "input_shape = dataset['x_train'].shape[1:]\n",
    "print('INPUT SHAPE:',input_shape,'\\n')\n",
    "\n",
    "print(\"TRAIN: \\r\\n\")\n",
    "print(dataset['x_train'].shape)\n",
    "print(dataset['y_train_fine'].shape)\n",
    "print(dataset['y_train_medium'].shape)\n",
    "print(dataset['y_train_coarse'].shape)\n",
    "\n",
    "print(\"\\nTEST: \\r\\n\")\n",
    "print(dataset['x_test'].shape)\n",
    "print(dataset['y_test_fine'].shape)\n",
    "print(dataset['y_train_medium'].shape)\n",
    "print(dataset['y_train_coarse'].shape)\n",
    "\n",
    "fine_class = len(np.unique(np.argmax(dataset['y_test_fine'], axis=1)))\n",
    "medium_class = len(np.unique(np.argmax(dataset['y_train_medium'], axis=1)))\n",
    "coarse_class = len(np.unique(np.argmax(dataset['y_train_coarse'], axis=1)))\n",
    "print('Number of Classes in Label Tree:',\n",
    "      '\\nCoarse Level = ',coarse_class,\n",
    "      '\\nMedium Level = ',medium_class,\n",
    "      '\\nFine Level = ',fine_class)"
   ]
  },
  {
   "cell_type": "markdown",
   "id": "b3b30440",
   "metadata": {},
   "source": [
    "# CIFAR-100 Dataset"
   ]
  },
  {
   "cell_type": "markdown",
   "id": "5d93e8b4",
   "metadata": {},
   "source": [
    "## Import CIFAR-100 dataset"
   ]
  },
  {
   "cell_type": "code",
   "execution_count": 93,
   "id": "d6674cb0",
   "metadata": {},
   "outputs": [
    {
     "name": "stderr",
     "output_type": "stream",
     "text": [
      "Clipping input data to the valid range for imshow with RGB data ([0..1] for floats or [0..255] for integers).\n",
      "Clipping input data to the valid range for imshow with RGB data ([0..1] for floats or [0..255] for integers).\n",
      "Clipping input data to the valid range for imshow with RGB data ([0..1] for floats or [0..255] for integers).\n",
      "Clipping input data to the valid range for imshow with RGB data ([0..1] for floats or [0..255] for integers).\n",
      "Clipping input data to the valid range for imshow with RGB data ([0..1] for floats or [0..255] for integers).\n",
      "Clipping input data to the valid range for imshow with RGB data ([0..1] for floats or [0..255] for integers).\n",
      "Clipping input data to the valid range for imshow with RGB data ([0..1] for floats or [0..255] for integers).\n",
      "Clipping input data to the valid range for imshow with RGB data ([0..1] for floats or [0..255] for integers).\n",
      "Clipping input data to the valid range for imshow with RGB data ([0..1] for floats or [0..255] for integers).\n",
      "Clipping input data to the valid range for imshow with RGB data ([0..1] for floats or [0..255] for integers).\n"
     ]
    },
    {
     "name": "stdout",
     "output_type": "stream",
     "text": [
      "dict_keys(['x_train', 'y_train_coarse', 'y_train_medium', 'y_train_fine', 'x_test', 'y_test_coarse', 'y_test_medium', 'y_test_fine', 'tree'])\n",
      "Root\n",
      "├── Coarse_0\n",
      "│   ├── Medium0\n",
      "│   │   ├── Fine_30\n",
      "│   │   ├── Fine_4\n",
      "│   │   ├── Fine_55\n",
      "│   │   ├── Fine_72\n",
      "│   │   └── Fine_95\n",
      "│   └── Medium1\n",
      "│       ├── Fine_1\n",
      "│       ├── Fine_32\n",
      "│       ├── Fine_67\n",
      "│       ├── Fine_73\n",
      "│       └── Fine_91\n",
      "├── Coarse_1\n",
      "│   ├── Medium17\n",
      "│   │   ├── Fine_47\n",
      "│   │   ├── Fine_52\n",
      "│   │   ├── Fine_56\n",
      "│   │   ├── Fine_59\n",
      "│   │   └── Fine_96\n",
      "│   ├── Medium2\n",
      "│   │   ├── Fine_54\n",
      "│   │   ├── Fine_62\n",
      "│   │   ├── Fine_70\n",
      "│   │   ├── Fine_82\n",
      "│   │   └── Fine_92\n",
      "│   └── Medium4\n",
      "│       ├── Fine_0\n",
      "│       ├── Fine_51\n",
      "│       ├── Fine_53\n",
      "│       ├── Fine_57\n",
      "│       └── Fine_83\n",
      "├── Coarse_2\n",
      "│   ├── Medium3\n",
      "│   │   ├── Fine_10\n",
      "│   │   ├── Fine_16\n",
      "│   │   ├── Fine_28\n",
      "│   │   ├── Fine_61\n",
      "│   │   └── Fine_9\n",
      "│   ├── Medium5\n",
      "│   │   ├── Fine_22\n",
      "│   │   ├── Fine_39\n",
      "│   │   ├── Fine_40\n",
      "│   │   ├── Fine_86\n",
      "│   │   └── Fine_87\n",
      "│   └── Medium6\n",
      "│       ├── Fine_20\n",
      "│       ├── Fine_25\n",
      "│       ├── Fine_5\n",
      "│       ├── Fine_84\n",
      "│       └── Fine_94\n",
      "├── Coarse_3\n",
      "│   ├── Medium13\n",
      "│   │   ├── Fine_26\n",
      "│   │   ├── Fine_45\n",
      "│   │   ├── Fine_77\n",
      "│   │   ├── Fine_79\n",
      "│   │   └── Fine_99\n",
      "│   └── Medium7\n",
      "│       ├── Fine_14\n",
      "│       ├── Fine_18\n",
      "│       ├── Fine_24\n",
      "│       ├── Fine_6\n",
      "│       └── Fine_7\n",
      "├── Coarse_4\n",
      "│   ├── Medium11\n",
      "│   │   ├── Fine_15\n",
      "│   │   ├── Fine_19\n",
      "│   │   ├── Fine_21\n",
      "│   │   ├── Fine_31\n",
      "│   │   └── Fine_38\n",
      "│   ├── Medium12\n",
      "│   │   ├── Fine_34\n",
      "│   │   ├── Fine_63\n",
      "│   │   ├── Fine_64\n",
      "│   │   ├── Fine_66\n",
      "│   │   └── Fine_75\n",
      "│   ├── Medium15\n",
      "│   │   ├── Fine_27\n",
      "│   │   ├── Fine_29\n",
      "│   │   ├── Fine_44\n",
      "│   │   ├── Fine_78\n",
      "│   │   └── Fine_93\n",
      "│   ├── Medium16\n",
      "│   │   ├── Fine_36\n",
      "│   │   ├── Fine_50\n",
      "│   │   ├── Fine_65\n",
      "│   │   ├── Fine_74\n",
      "│   │   └── Fine_80\n",
      "│   └── Medium8\n",
      "│       ├── Fine_3\n",
      "│       ├── Fine_42\n",
      "│       ├── Fine_43\n",
      "│       ├── Fine_88\n",
      "│       └── Fine_97\n",
      "├── Coarse_5\n",
      "│   ├── Medium10\n",
      "│   │   ├── Fine_23\n",
      "│   │   ├── Fine_33\n",
      "│   │   ├── Fine_49\n",
      "│   │   ├── Fine_60\n",
      "│   │   └── Fine_71\n",
      "│   └── Medium9\n",
      "│       ├── Fine_12\n",
      "│       ├── Fine_17\n",
      "│       ├── Fine_37\n",
      "│       ├── Fine_68\n",
      "│       └── Fine_76\n",
      "├── Coarse_6\n",
      "│   └── Medium14\n",
      "│       ├── Fine_11\n",
      "│       ├── Fine_2\n",
      "│       ├── Fine_35\n",
      "│       ├── Fine_46\n",
      "│       └── Fine_98\n",
      "└── Coarse_7\n",
      "    ├── Medium18\n",
      "    │   ├── Fine_13\n",
      "    │   ├── Fine_48\n",
      "    │   ├── Fine_58\n",
      "    │   ├── Fine_8\n",
      "    │   └── Fine_90\n",
      "    └── Medium19\n",
      "        ├── Fine_41\n",
      "        ├── Fine_69\n",
      "        ├── Fine_81\n",
      "        ├── Fine_85\n",
      "        └── Fine_89\n",
      "\n",
      "INPUT SHAPE: (32, 32, 3) \n",
      "\n",
      "TRAIN: \r\n",
      "\n",
      "(50000, 32, 32, 3)\n",
      "(50000, 100)\n",
      "(50000, 20)\n",
      "(50000, 8)\n",
      "\n",
      "TEST: \r\n",
      "\n",
      "(10000, 32, 32, 3)\n",
      "(10000, 100)\n",
      "(50000, 20)\n",
      "(50000, 8)\n",
      "Number of Classes in Label Tree: \n",
      "Coarse Level =  8 \n",
      "Medium Level =  20 \n",
      "Fine Level =  100\n"
     ]
    },
    {
     "data": {
      "image/png": "[encoded data removed]",
      "text/plain": [
       "<Figure size 1440x1440 with 10 Axes>"
      ]
     },
     "metadata": {},
     "output_type": "display_data"
    }
   ],
   "source": [
    "## Import dataset\n",
    "dataset = datasets.CIFAR100()\n",
    "print(dataset.keys())\n",
    "dataset['tree'].show()\n",
    "\n",
    "input_shape = dataset['x_train'].shape[1:]\n",
    "print('INPUT SHAPE:',input_shape,'\\n')\n",
    "\n",
    "print(\"TRAIN: \\r\\n\")\n",
    "print(dataset['x_train'].shape)\n",
    "print(dataset['y_train_fine'].shape)\n",
    "print(dataset['y_train_medium'].shape)\n",
    "print(dataset['y_train_coarse'].shape)\n",
    "\n",
    "print(\"\\nTEST: \\r\\n\")\n",
    "print(dataset['x_test'].shape)\n",
    "print(dataset['y_test_fine'].shape)\n",
    "print(dataset['y_train_medium'].shape)\n",
    "print(dataset['y_train_coarse'].shape)\n",
    "\n",
    "fine_class = len(np.unique(np.argmax(dataset['y_test_fine'], axis=1)))\n",
    "medium_class = len(np.unique(np.argmax(dataset['y_train_medium'], axis=1)))\n",
    "coarse_class = len(np.unique(np.argmax(dataset['y_train_coarse'], axis=1)))\n",
    "print('Number of Classes in Label Tree:',\n",
    "      '\\nCoarse Level = ',coarse_class,\n",
    "      '\\nMedium Level = ',medium_class,\n",
    "      '\\nFine Level = ',fine_class)\n",
    "\n",
    "datasets.plot_sample_image(dataset['x_train'],\n",
    "                           {'coarse':dataset['y_train_coarse'],\n",
    "                            'medium':dataset['y_train_medium'],\n",
    "                            'fine':dataset['y_train_fine']})"
   ]
  },
  {
   "cell_type": "markdown",
   "id": "7619491f",
   "metadata": {},
   "source": [
    "## Create ML model"
   ]
  },
  {
   "cell_type": "code",
   "execution_count": 24,
   "id": "b30aa259",
   "metadata": {},
   "outputs": [],
   "source": [
    "model = MLmodel.CIFAR100_HCapsNet(input_shape,\n",
    "                               coarse_class, medium_class, fine_class)\n",
    "model.summary()"
   ]
  },
  {
   "cell_type": "markdown",
   "id": "2b871256",
   "metadata": {},
   "source": [
    "## Model Training"
   ]
  },
  {
   "cell_type": "code",
   "execution_count": null,
   "id": "c08a4ba2",
   "metadata": {},
   "outputs": [],
   "source": []
  },
  {
   "cell_type": "markdown",
   "id": "e4db0452",
   "metadata": {},
   "source": [
    "## Model Analysis"
   ]
  },
  {
   "cell_type": "code",
   "execution_count": null,
   "id": "7e4b9615",
   "metadata": {},
   "outputs": [],
   "source": []
  }
 ],
 "metadata": {
  "kernelspec": {
   "display_name": "Python [conda env:.conda-py38tf] *",
   "language": "python",
   "name": "conda-env-.conda-py38tf-py"
  },
  "language_info": {
   "codemirror_mode": {
    "name": "ipython",
    "version": 3
   },
   "file_extension": ".py",
   "mimetype": "text/x-python",
   "name": "python",
   "nbconvert_exporter": "python",
   "pygments_lexer": "ipython3",
   "version": "3.8.12"
  },
  "toc": {
   "base_numbering": 1,
   "nav_menu": {},
   "number_sections": true,
   "sideBar": true,
   "skip_h1_title": false,
   "title_cell": "Table of Contents",
   "title_sidebar": "Contents",
   "toc_cell": false,
   "toc_position": {},
   "toc_section_display": true,
   "toc_window_display": true
  }
 },
 "nbformat": 4,
 "nbformat_minor": 5
}
